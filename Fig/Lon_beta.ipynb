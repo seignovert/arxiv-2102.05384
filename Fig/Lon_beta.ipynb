version https://git-lfs.github.com/spec/v1
oid sha256:b0dca405059a4983ed648263a4657755fa1df37d3e9b3af1b13a64cef8f85404
size 456916
