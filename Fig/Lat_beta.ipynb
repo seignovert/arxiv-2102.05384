version https://git-lfs.github.com/spec/v1
oid sha256:177b860dc715a549b98e8ab5c07220fc5504b74bd0c2b427865f724d7cfdfb80
size 1007086
