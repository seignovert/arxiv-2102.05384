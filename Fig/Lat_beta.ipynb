version https://git-lfs.github.com/spec/v1
oid sha256:961de46b8a8b51c1eb52a7351179f19f0f967fb328140efcb949ef2d3755b11a
size 794924
