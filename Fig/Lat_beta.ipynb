version https://git-lfs.github.com/spec/v1
oid sha256:1e1d7e6b9bce761f18f88c81f66b6a813e0f3b495faed4809610aa4cb2cc7498
size 1241692
