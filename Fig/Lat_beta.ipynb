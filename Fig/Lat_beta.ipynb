version https://git-lfs.github.com/spec/v1
oid sha256:cd97cd1c9b74b63ccffcd4c1c972cc040d40ed48d6bc191c209d8c6c97da0a64
size 1282358
