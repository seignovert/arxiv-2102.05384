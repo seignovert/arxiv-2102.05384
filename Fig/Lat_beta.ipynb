version https://git-lfs.github.com/spec/v1
oid sha256:078468e8705c5ea1d1d94414149057ab161dbf75dc653712519c6d38bae58032
size 1007511
