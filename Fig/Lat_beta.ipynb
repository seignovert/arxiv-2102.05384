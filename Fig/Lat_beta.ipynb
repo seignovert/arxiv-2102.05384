version https://git-lfs.github.com/spec/v1
oid sha256:4b98dbd8197308aa00e1dae9827f4b20aefb58a181359c2e9607eaf53f7d8e92
size 1094847
