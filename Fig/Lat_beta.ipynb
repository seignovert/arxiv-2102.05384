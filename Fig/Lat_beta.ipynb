version https://git-lfs.github.com/spec/v1
oid sha256:59b222304f4515397a29290b4f6128757fa5f64ff1ef5d6154a30e95a6b9dc39
size 1281282
