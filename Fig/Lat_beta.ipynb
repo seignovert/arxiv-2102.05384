version https://git-lfs.github.com/spec/v1
oid sha256:ee49ab434abb9d1473d6d50ebc622996c39a8f7db8f2b7da806ed67f027dd5a4
size 946057
