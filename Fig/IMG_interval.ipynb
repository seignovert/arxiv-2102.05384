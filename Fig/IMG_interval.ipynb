version https://git-lfs.github.com/spec/v1
oid sha256:0ffbaf9036bf352944b84244aa60e9557fb2fccc81dc8068713da344ff67b72a
size 56046
