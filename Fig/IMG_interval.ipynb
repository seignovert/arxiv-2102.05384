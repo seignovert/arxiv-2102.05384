{
 "cells": [
  {
   "cell_type": "markdown",
   "metadata": {},
   "source": [
    "# ISS images intervals"
   ]
  },
  {
   "cell_type": "code",
   "execution_count": 1,
   "metadata": {},
   "outputs": [],
   "source": [
    "from datetime import datetime as dt\n",
    "\n",
    "import numpy as np\n",
    "import matplotlib.pyplot as plt\n",
    "\n",
    "from cassini import ISS\n",
    "\n",
    "from titan import orbit as titan_orbit"
   ]
  },
  {
   "cell_type": "code",
   "execution_count": 2,
   "metadata": {},
   "outputs": [],
   "source": [
    "imgs = np.loadtxt('IMG_list.dat', dtype=str)"
   ]
  },
  {
   "cell_type": "code",
   "execution_count": 3,
   "metadata": {
    "scrolled": true
   },
   "outputs": [],
   "source": [
    "t = []\n",
    "for img_id in imgs:\n",
    "    t.append(ISS(img_id).dtime)\n",
    "\n",
    "t = np.asarray(t)"
   ]
  },
  {
   "cell_type": "code",
   "execution_count": 4,
   "metadata": {},
   "outputs": [],
   "source": [
    "intervals = t[1:] - t[:-1]"
   ]
  },
  {
   "cell_type": "code",
   "execution_count": 5,
   "metadata": {},
   "outputs": [],
   "source": [
    "xx = []\n",
    "yy = []\n",
    "for i, interval in enumerate(intervals):\n",
    "    if interval.days > 0:\n",
    "        xx.append(.5 * (t[i+1].timestamp() + t[i].timestamp()))\n",
    "        yy.append(interval.days)\n",
    "        \n",
    "yy = np.asarray(yy)"
   ]
  },
  {
   "cell_type": "code",
   "execution_count": 6,
   "metadata": {},
   "outputs": [
    {
     "name": "stdout",
     "output_type": "stream",
     "text": [
      "ISS images stats:\n",
      "    Size: 139\n",
      "    Mean: 39.3\n",
      "    Median: 18.0\n",
      "    Min|Max: 1|302\n",
      "    1st|3rd Quartiles: 7.0|50.25\n",
      "\n"
     ]
    }
   ],
   "source": [
    "mean = np.mean(yy)\n",
    "median = np.median(yy)\n",
    "ymin = np.min(yy)\n",
    "ymax = np.max(yy)\n",
    "q1 = np.percentile(yy, 25)\n",
    "q3 = np.percentile(yy, 75)\n",
    "\n",
    "print(f\"\"\"ISS images stats:\n",
    "    Size: {len(t)}\n",
    "    Mean: {mean:.1f}\n",
    "    Median: {median:.1f}\n",
    "    Min|Max: {ymin}|{ymax}\n",
    "    1st|3rd Quartiles: {q1}|{q3}\n",
    "\"\"\")"
   ]
  },
  {
   "cell_type": "code",
   "execution_count": 7,
   "metadata": {},
   "outputs": [],
   "source": [
    "def timestamp(ls):\n",
    "    \"\"\"Calculate timestamp for Ls value.\"\"\"\n",
    "    time = str(titan_orbit.date(ls, Ty=(0 if ls > 180 else 1)))\n",
    "    return dt.strptime(time, '%Y-%m-%d').timestamp()"
   ]
  },
  {
   "cell_type": "code",
   "execution_count": 8,
   "metadata": {},
   "outputs": [
    {
     "data": {
      "image/png": "[encoded data removed]",
      "text/plain": [
       "<Figure size 864x360 with 3 Axes>"
      ]
     },
     "metadata": {
      "needs_background": "light"
     },
     "output_type": "display_data"
    }
   ],
   "source": [
    "yticks = [1, 2, 3, 5, 10, 20, 30, 50, 100, 200, 300]\n",
    "yticks1 = [1, 2, 3, 5, 10, 20]\n",
    "xticks = np.arange(2005, 2019, 2)\n",
    "xticks2 = list(range(300, 360, 10)) + list(range(0, 110, 10))\n",
    "\n",
    "plt.figure(figsize=(12, 5))\n",
    "ax = plt.gca()\n",
    "ax.set_yscale('log')\n",
    "\n",
    "ax.errorbar(xx, yy, xerr=(yy / 2 * 86400), color='k', fmt='.', lw=4)\n",
    "xlim = ax.get_xlim()\n",
    "ylim = (.9, ax.get_ylim()[1])\n",
    "\n",
    "plt.plot(xlim, [mean, mean], 'k--', label=f'Mean interval: {int(mean)}')\n",
    "plt.plot(xlim, [median, median], 'k:', label=f'Median interval: {int(median)}')\n",
    "plt.plot(xlim, [q1, q1], 'k-', lw=.2, label=f'1st and 3rd quartiles: {int(q1), int(q3)}')\n",
    "plt.plot(xlim, [q3, q3], 'k-', lw=.2)\n",
    "\n",
    "plt.legend(loc=3, numpoints=1)\n",
    "\n",
    "ax.set_xticks([dt(year, 1, 1).timestamp() for year in xticks])\n",
    "ax.set_xticklabels(xticks)\n",
    "\n",
    "ax.set_yticks(yticks)\n",
    "ax.set_yticklabels(yticks)\n",
    "\n",
    "ax.set_xlim(*xlim)\n",
    "ax.set_ylim(*ylim)\n",
    "\n",
    "ax.set_xlabel('Date')\n",
    "ax.set_ylabel('Image intervals (Earth days)')\n",
    "\n",
    "ax1 = ax.twinx()\n",
    "ax1.set_yscale('log')\n",
    "ax1.set_ylim(*ylim)\n",
    "ax1.set_yticks(np.multiply([1, 2, 3, 5, 10, 20], 16))\n",
    "ax1.set_yticklabels(yticks1)\n",
    "ax1.minorticks_off()\n",
    "ax1.set_ylabel('Image intervals (Titan days)')\n",
    "\n",
    "ax2 = ax.twiny()\n",
    "ax2.set_xlim(*xlim)\n",
    "ax2.set_xticks([timestamp(ls) for ls in xticks2])\n",
    "ax2.set_xticklabels([f'{ls}°' for ls in xticks2])\n",
    "ax2.set_xlabel('Titan season (Ls)');\n",
    "\n",
    "plt.savefig('IMG_interval.png', bbox_inches='tight', transparent=True, dpi=300);"
   ]
  }
 ],
 "metadata": {
  "kernelspec": {
   "display_name": "Python 3",
   "language": "python",
   "name": "python3"
  },
  "language_info": {
   "codemirror_mode": {
    "name": "ipython",
    "version": 3
   },
   "file_extension": ".py",
   "mimetype": "text/x-python",
   "name": "python",
   "nbconvert_exporter": "python",
   "pygments_lexer": "ipython3",
   "version": "3.6.7"
  }
 },
 "nbformat": 4,
 "nbformat_minor": 2
}
