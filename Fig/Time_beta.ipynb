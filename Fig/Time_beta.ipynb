version https://git-lfs.github.com/spec/v1
oid sha256:ae3d71925a146d199202247d80c6e356f6a1e879635aba49f477f6d38cad60b0
size 86705
